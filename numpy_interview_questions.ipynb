{
 "cells": [
  {
   "cell_type": "code",
   "execution_count": null,
   "metadata": {},
   "outputs": [],
   "source": [
    "import numpy as np"
   ]
  },
  {
   "cell_type": "markdown",
   "metadata": {},
   "source": [
    "## 1. You have a random matrix n by m, how to select the numbers with certain conditions, but outcome matrix should be the same size as original one, the unselected ones can be returned as 0"
   ]
  },
  {
   "cell_type": "code",
   "execution_count": null,
   "metadata": {},
   "outputs": [
    {
     "data": {
      "text/plain": [
       "array([[ 0.        ,  0.        ,  0.        ,  0.        ],\n",
       "       [ 0.        ,  0.        ,  0.        ,  0.        ],\n",
       "       [-2.21056267,  0.        ,  0.        ,  0.        ]])"
      ]
     },
     "metadata": {},
     "output_type": "display_data"
    }
   ],
   "source": [
    "c = np.random.normal(0, 1, size=(3, 4)) * 10; c\n",
    "condition = ((c > -3) & (c < 3))\n",
    "np.where(condition, c, 0)"
   ]
  },
  {
   "cell_type": "markdown",
   "metadata": {},
   "source": [
    "## 2. how to concatenate two n by m matrices (arrays) and are you able compute its invese?"
   ]
  },
  {
   "cell_type": "code",
   "execution_count": null,
   "metadata": {},
   "outputs": [
    {
     "data": {
      "text/plain": [
       "array([[ 0.04648423,  0.07373445, -0.06100933, -0.02948205],\n",
       "       [ 0.04949594,  0.07937969, -0.07083186,  0.02410747],\n",
       "       [-0.18932428, -0.36620135,  0.17220079, -0.01369898],\n",
       "       [ 0.03320353, -0.12779359,  0.03905339, -0.02265369]])"
      ]
     },
     "metadata": {},
     "output_type": "display_data"
    }
   ],
   "source": [
    "a = np.random.normal(0, 1, size=(2, 4)) * 10\n",
    "b = np.random.normal(0, 1, size=(2, 4)) * 10\n",
    "np.linalg.inv(np.concatenate([a, b], axis=0))"
   ]
  },
  {
   "cell_type": "markdown",
   "metadata": {},
   "source": [
    "## 3. Convert a n by m matrix to a 1D array in three ways?"
   ]
  },
  {
   "cell_type": "code",
   "execution_count": null,
   "metadata": {},
   "outputs": [
    {
     "data": {
      "text/plain": [
       "array([[ -3.28026218, -22.86017062,   8.96364327,  -7.50435972],\n",
       "       [  0.75116655,  -4.21030226,  -9.25804057,  21.28141657],\n",
       "       [ -2.62822788,  -0.66168747,  12.26301505, -11.56650951]])"
      ]
     },
     "metadata": {},
     "output_type": "display_data"
    }
   ],
   "source": [
    "a = np.random.normal(0, 1, size=(3, 4)) * 10; a"
   ]
  },
  {
   "cell_type": "code",
   "execution_count": null,
   "metadata": {},
   "outputs": [
    {
     "data": {
      "text/plain": [
       "array([ -3.28026218, -22.86017062,   8.96364327,  -7.50435972,\n",
       "         0.75116655,  -4.21030226,  -9.25804057,  21.28141657,\n",
       "        -2.62822788,  -0.66168747,  12.26301505, -11.56650951])"
      ]
     },
     "metadata": {},
     "output_type": "display_data"
    }
   ],
   "source": [
    "a.flatten(order='C')"
   ]
  },
  {
   "cell_type": "code",
   "execution_count": null,
   "metadata": {},
   "outputs": [
    {
     "data": {
      "text/plain": [
       "array([ -3.28026218,   0.75116655,  -2.62822788, -22.86017062,\n",
       "        -4.21030226,  -0.66168747,   8.96364327,  -9.25804057,\n",
       "        12.26301505,  -7.50435972,  21.28141657, -11.56650951])"
      ]
     },
     "metadata": {},
     "output_type": "display_data"
    }
   ],
   "source": [
    "np.ravel(a, order='F')"
   ]
  },
  {
   "cell_type": "code",
   "execution_count": null,
   "metadata": {},
   "outputs": [
    {
     "data": {
      "text/plain": [
       "array([ -3.28026218, -22.86017062,   8.96364327,  -7.50435972,\n",
       "         0.75116655,  -4.21030226,  -9.25804057,  21.28141657,\n",
       "        -2.62822788,  -0.66168747,  12.26301505, -11.56650951])"
      ]
     },
     "metadata": {},
     "output_type": "display_data"
    }
   ],
   "source": [
    "a.reshape(-1, order='C')"
   ]
  },
  {
   "cell_type": "markdown",
   "metadata": {},
   "source": [
    "## 4. How do you create a matrix scatter with NaN, and you can filter out the NaN. "
   ]
  },
  {
   "cell_type": "code",
   "execution_count": null,
   "metadata": {},
   "outputs": [
    {
     "data": {
      "text/plain": [
       "array([-1.70418812e+01,  8.19198883e-01,  2.03242027e+00, -1.94401136e+01,\n",
       "        7.51762484e+00, -4.40378360e+00, -1.58076226e+01, -2.63969867e-02,\n",
       "       -4.33588185e+00, -2.82669427e+01])"
      ]
     },
     "metadata": {},
     "output_type": "display_data"
    }
   ],
   "source": [
    "a = np.random.randn(10) * 10; a"
   ]
  },
  {
   "cell_type": "code",
   "execution_count": null,
   "metadata": {},
   "outputs": [
    {
     "data": {
      "text/plain": [
       "array([7, 9, 5])"
      ]
     },
     "metadata": {},
     "output_type": "display_data"
    }
   ],
   "source": [
    "nan_index = np.random.choice(len(a), 3, replace=False); nan_index"
   ]
  },
  {
   "cell_type": "code",
   "execution_count": null,
   "metadata": {},
   "outputs": [
    {
     "data": {
      "text/plain": [
       "array([-17.04188122,   0.81919888,   2.03242027, -19.44011356,\n",
       "         7.51762484,          nan, -15.80762257,          nan,\n",
       "        -4.33588185,          nan])"
      ]
     },
     "metadata": {},
     "output_type": "display_data"
    }
   ],
   "source": [
    "a[nan_index] = np.nan; a"
   ]
  },
  {
   "cell_type": "code",
   "execution_count": null,
   "metadata": {},
   "outputs": [],
   "source": [
    "a = a.reshape(5, 2)"
   ]
  },
  {
   "cell_type": "code",
   "execution_count": null,
   "metadata": {},
   "outputs": [
    {
     "data": {
      "text/plain": [
       "array([[-17.04188122,   0.81919888],\n",
       "       [  2.03242027, -19.44011356],\n",
       "       [  7.51762484,   0.        ],\n",
       "       [-15.80762257,   0.        ],\n",
       "       [ -4.33588185,   0.        ]])"
      ]
     },
     "metadata": {},
     "output_type": "display_data"
    }
   ],
   "source": [
    "np.where(np.isnan(a), 0, a) # replace nan by 0"
   ]
  },
  {
   "cell_type": "markdown",
   "metadata": {},
   "source": [
    "## 5. If you have a array, you set a condition, how do you get indices of them?"
   ]
  },
  {
   "cell_type": "code",
   "execution_count": null,
   "metadata": {},
   "outputs": [
    {
     "data": {
      "text/plain": [
       "array([ -14,  161, -115,  215,  -61,    2,  -56,   11,   38, -112, -137,\n",
       "         56,  -38,   82,   32,  259, -178,   50,  105,  -99,   37,  -17,\n",
       "        -61,   67,  206,  119,  -13,  -50, -112,   89,  114, -158,   45,\n",
       "        122,   29,  -10, -123,    7,   51,  -96,  152,  212,   65, -202,\n",
       "        185,   11,  -63,   16,  152,   14,  -65,  174,   92,   48,  -51,\n",
       "        132,  -45,   44,   10,   -8,   -3,  122, -128,  122,  -72,  -53,\n",
       "        -96,  -82,   12,  156,  209,  -85, -190,  105,   48,  140, -100,\n",
       "         29,    5,   52,  -39, -187,  -69,   73,  -47,   33,  -71, -176,\n",
       "       -148,   72,  -72,   10, -157,   10,   -8,    7, -186,  -56,   70,\n",
       "         98])"
      ]
     },
     "metadata": {},
     "output_type": "display_data"
    }
   ],
   "source": [
    "a = np.random.randn(100) * 100\n",
    "a = a.astype(int); a"
   ]
  },
  {
   "cell_type": "code",
   "execution_count": null,
   "metadata": {},
   "outputs": [
    {
     "data": {
      "text/plain": [
       "(array([ 1,  3, 15, 18, 24, 25, 30, 33, 40, 41, 44, 48, 51, 52, 55, 61, 63,\n",
       "        69, 70, 73, 75, 99], dtype=int64),)"
      ]
     },
     "metadata": {},
     "output_type": "display_data"
    }
   ],
   "source": [
    "condition = (a > 90)\n",
    "np.where(condition)"
   ]
  },
  {
   "cell_type": "markdown",
   "metadata": {},
   "source": [
    "## 6. Sort an array from max to min? "
   ]
  },
  {
   "cell_type": "code",
   "execution_count": null,
   "metadata": {},
   "outputs": [
    {
     "data": {
      "text/plain": [
       "array([ 265,  230,  217,  211,  200,  173,  172,  167,  146,  143,  130,\n",
       "        128,  124,  123,  120,  119,  114,  105,  102,  100,   99,   88,\n",
       "         87,   83,   74,   71,   66,   62,   59,   57,   54,   54,   52,\n",
       "         51,   50,   46,   44,   42,   39,   37,   35,   34,   33,   28,\n",
       "         27,   26,   25,   18,   16,   15,   10,    5,    4,    3,    1,\n",
       "          0,   -3,   -3,   -5,  -12,  -15,  -17,  -17,  -19,  -19,  -22,\n",
       "        -23,  -24,  -25,  -29,  -29,  -33,  -33,  -36,  -40,  -43,  -47,\n",
       "        -47,  -49,  -51,  -52,  -54,  -56,  -58,  -77,  -80,  -81,  -84,\n",
       "        -87,  -92, -106, -115, -119, -120, -129, -154, -169, -169, -173,\n",
       "       -203])"
      ]
     },
     "metadata": {},
     "output_type": "display_data"
    }
   ],
   "source": [
    "a = np.random.randn(100) * 100\n",
    "a = a.astype(int)\n",
    "np.sort(a)[::-1]"
   ]
  },
  {
   "cell_type": "markdown",
   "metadata": {},
   "source": [
    "## 7. Create a diagonal matrix with elements from 1 to 6"
   ]
  },
  {
   "cell_type": "code",
   "execution_count": null,
   "metadata": {},
   "outputs": [
    {
     "data": {
      "text/plain": [
       "array([[1, 0, 0, 0, 0],\n",
       "       [0, 2, 0, 0, 0],\n",
       "       [0, 0, 3, 0, 0],\n",
       "       [0, 0, 0, 4, 0],\n",
       "       [0, 0, 0, 0, 5]])"
      ]
     },
     "metadata": {},
     "output_type": "display_data"
    }
   ],
   "source": [
    "np.diag(np.arange(1, 6), k=0)"
   ]
  }
 ],
 "metadata": {
  "kernelspec": {
   "display_name": "weijie-chen-Vyy5-xRM-py3.12",
   "language": "python",
   "name": "python3"
  },
  "language_info": {
   "name": "python",
   "version": "3.12.0"
  }
 },
 "nbformat": 4,
 "nbformat_minor": 2
}
