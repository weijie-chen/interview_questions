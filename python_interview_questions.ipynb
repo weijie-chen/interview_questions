{
 "cells": [
  {
   "cell_type": "code",
   "execution_count": 18,
   "metadata": {},
   "outputs": [],
   "source": [
    "import pandas as pd\n",
    "import numpy as np"
   ]
  },
  {
   "cell_type": "markdown",
   "metadata": {},
   "source": [
    "## 1. Give an example how you use zip in a loop, what does zip create? How it can be used in MultiIndex in dataframe?"
   ]
  },
  {
   "cell_type": "code",
   "execution_count": null,
   "metadata": {},
   "outputs": [],
   "source": [
    "numbers = [1, 2, 3, 4, 5]\n",
    "fruits = ['apple', 'bananas', 'cherries', 'dates', 'elderberries']\n",
    "\n",
    "for number, fruit in zip(numbers, fruits):\n",
    "    print(f'we have {number} {fruit}')"
   ]
  },
  {
   "cell_type": "code",
   "execution_count": null,
   "metadata": {},
   "outputs": [],
   "source": [
    "list(zip(numbers, fruits))"
   ]
  },
  {
   "cell_type": "code",
   "execution_count": null,
   "metadata": {},
   "outputs": [],
   "source": [
    "a = pd.DataFrame(np.random.randn(5, 2), index=pd.MultiIndex.from_tuples(list(zip(numbers, fruits))), columns=['A', 'B']);a "
   ]
  },
  {
   "cell_type": "code",
   "execution_count": null,
   "metadata": {},
   "outputs": [],
   "source": [
    "a.loc[[(1, 'apple')]]"
   ]
  },
  {
   "cell_type": "markdown",
   "metadata": {},
   "source": [
    "# Explain DFS, BFS, Union Find, Topological Sort and their time complexity"
   ]
  },
  {
   "cell_type": "markdown",
   "metadata": {},
   "source": [
    "# Explain Dijstra's Shortest Path Algo"
   ]
  },
  {
   "cell_type": "markdown",
   "metadata": {},
   "source": [
    "# Use Recursion or For Loop to Generate Fibanacci Numbers And explain the difference\n",
    "0, 1, 2, 3, 5, 8, 13, 21...."
   ]
  },
  {
   "cell_type": "code",
   "execution_count": null,
   "metadata": {},
   "outputs": [],
   "source": [
    "def fib_number(index: int) -> int:\n",
    "    if index <= 1:\n",
    "        return 1\n",
    "    else:\n",
    "        return fib_number(index - 1) + fib_number(index - 2)\n",
    "fib_number(6)"
   ]
  },
  {
   "cell_type": "markdown",
   "metadata": {},
   "source": [
    "# How to join a list of list"
   ]
  },
  {
   "cell_type": "code",
   "execution_count": null,
   "metadata": {},
   "outputs": [],
   "source": [
    "from itertools import chain\n",
    "fruits = [['apple'], ['bananas', 'cherries'], ['dates'], ['elderberries']]\n",
    "vegetables = [['tomato'], ['celery', 'onion']]\n",
    "list(chain(*fruits, *vegetables))"
   ]
  },
  {
   "cell_type": "markdown",
   "metadata": {},
   "source": [
    "# Calculate Cumulative sum of a list"
   ]
  },
  {
   "cell_type": "code",
   "execution_count": 25,
   "metadata": {},
   "outputs": [],
   "source": [
    "import pandas as pd\n",
    "numbers = [1, 5, 6, 8, 10, 11, 14, 16]\n",
    "df_num = pd.DataFrame(numbers)"
   ]
  },
  {
   "cell_type": "code",
   "execution_count": null,
   "metadata": {},
   "outputs": [],
   "source": [
    "df_num.cumsum()"
   ]
  },
  {
   "cell_type": "code",
   "execution_count": null,
   "metadata": {},
   "outputs": [],
   "source": [
    "from functools import reduce\n",
    "reduce(lambda x, y: x + y, numbers, 0)"
   ]
  },
  {
   "cell_type": "code",
   "execution_count": null,
   "metadata": {},
   "outputs": [],
   "source": [
    "from itertools import accumulate\n",
    "list(accumulate(numbers))"
   ]
  },
  {
   "cell_type": "markdown",
   "metadata": {},
   "source": [
    "# How to use yield in Python"
   ]
  },
  {
   "cell_type": "code",
   "execution_count": 29,
   "metadata": {},
   "outputs": [],
   "source": [
    "from typing import Generator\n",
    "def generator_func(iterable: list) -> Generator:\n",
    "    for i in iterable:\n",
    "        yield i\n",
    "a = [1, 3, 5, 8]\n",
    "results = generator_func(a)\n"
   ]
  },
  {
   "cell_type": "code",
   "execution_count": null,
   "metadata": {},
   "outputs": [],
   "source": [
    "for _ in range(len(a)):\n",
    "    try:\n",
    "        print(next(results))\n",
    "    except ValueError as e:\n",
    "        raise print(f\"No iteration {e}\")\n",
    "    finally:\n",
    "        print('Current loop is done')"
   ]
  },
  {
   "cell_type": "markdown",
   "metadata": {},
   "source": [
    "# Context manager also use yield, can you use yield to write context manager?"
   ]
  },
  {
   "cell_type": "code",
   "execution_count": null,
   "metadata": {},
   "outputs": [],
   "source": [
    "from contextlib import contextmanager\n",
    "connection = None\n",
    "@contextmanager\n",
    "def my_context():\n",
    "    print(\"here we enter the context!\")\n",
    "    connection = \"connected\"\n",
    "    print(f\"are we connected: {connection}!\")\n",
    "    print(\"do works!\")\n",
    "    yield\n",
    "    print(\"here we exit the context!\")\n",
    "    connection = None\n",
    "    print(f\"are we connected: {connection}!\")\n",
    "with my_context():\n",
    "    print(1+1)"
   ]
  },
  {
   "cell_type": "markdown",
   "metadata": {},
   "source": [
    "# How about use a class to write a context manager?"
   ]
  },
  {
   "cell_type": "code",
   "execution_count": 32,
   "metadata": {},
   "outputs": [],
   "source": [
    "class MyContext:\n",
    "    connection = None\n",
    "    def __enter__(self):\n",
    "        print(\"we enter context here!\")\n",
    "        connection = \"connected\"\n",
    "        print(f\"are we connected: {connection}\")\n",
    "        print(\"Doing heavey works....\")\n",
    "        return self\n",
    "    def __exit__(self, exc_type, exc_value, traceback):\n",
    "        print(\"we exit context here!\")\n",
    "        connection = None\n",
    "        print(f\"are we connected: {connection}\")"
   ]
  },
  {
   "cell_type": "code",
   "execution_count": null,
   "metadata": {},
   "outputs": [],
   "source": [
    "with MyContext() as c:\n",
    "    print(\"Pulling data from db!\")"
   ]
  },
  {
   "cell_type": "markdown",
   "metadata": {},
   "source": [
    "# Write a decorator to retry a function 3 times if failed"
   ]
  },
  {
   "cell_type": "code",
   "execution_count": 106,
   "metadata": {},
   "outputs": [],
   "source": [
    "import time\n",
    "def retry_a_function(func):\n",
    "    def wrapper(*args, **kwargs):\n",
    "        start_time = time.time()\n",
    "        result = func(*args, **kwargs)\n",
    "        end_time = time.time()\n",
    "        print(f\"Total time elapsed: {end_time-start_time}\")\n",
    "        return result\n",
    "    return wrapper\n",
    "\n",
    "@retry_a_function\n",
    "def squared(x: float) -> float:\n",
    "    return x**2"
   ]
  },
  {
   "cell_type": "markdown",
   "metadata": {},
   "source": [
    "# Show a decorator factory and explain how it works, compare with ordinary decorator"
   ]
  },
  {
   "cell_type": "code",
   "execution_count": 120,
   "metadata": {},
   "outputs": [
    {
     "name": "stdout",
     "output_type": "stream",
     "text": [
      "Attempt 1...\n",
      "Attempt 1 failed with error: Division by zero\n",
      "Attempt 2...\n",
      "Attempt 2 failed with error: Division by zero\n",
      "Attempt 3...\n",
      "Attempt 3 failed with error: Division by zero\n",
      "Attempt 4...\n",
      "Attempt 4 failed with error: Division by zero\n",
      "Attempt 5...\n",
      "Attempt 5 failed with error: Division by zero\n",
      "All attempts failed\n"
     ]
    },
    {
     "ename": "ZeroDivisionError",
     "evalue": "Division by zero",
     "output_type": "error",
     "traceback": [
      "\u001b[0;31m---------------------------------------------------------------------------\u001b[0m",
      "\u001b[0;31mZeroDivisionError\u001b[0m                         Traceback (most recent call last)",
      "Cell \u001b[0;32mIn[120], line 28\u001b[0m\n\u001b[1;32m     25\u001b[0m         \u001b[38;5;28;01mraise\u001b[39;00m \u001b[38;5;167;01mZeroDivisionError\u001b[39;00m(\u001b[38;5;124m\"\u001b[39m\u001b[38;5;124mDivision by zero\u001b[39m\u001b[38;5;124m\"\u001b[39m)\n\u001b[1;32m     26\u001b[0m     \u001b[38;5;28;01mreturn\u001b[39;00m a \u001b[38;5;241m/\u001b[39m b\n\u001b[0;32m---> 28\u001b[0m \u001b[43mrisky_division\u001b[49m\u001b[43m(\u001b[49m\u001b[38;5;241;43m4\u001b[39;49m\u001b[43m,\u001b[49m\u001b[43m \u001b[49m\u001b[38;5;241;43m0\u001b[39;49m\u001b[43m)\u001b[49m \u001b[38;5;66;03m# expecting exceptions\u001b[39;00m\n",
      "Cell \u001b[0;32mIn[120], line 11\u001b[0m, in \u001b[0;36mretry_decorator.<locals>.decorator.<locals>.wrapper\u001b[0;34m(*args, **kwargs)\u001b[0m\n\u001b[1;32m      9\u001b[0m \u001b[38;5;28;01mtry\u001b[39;00m:\n\u001b[1;32m     10\u001b[0m     \u001b[38;5;28mprint\u001b[39m(\u001b[38;5;124mf\u001b[39m\u001b[38;5;124m\"\u001b[39m\u001b[38;5;124mAttempt \u001b[39m\u001b[38;5;132;01m{\u001b[39;00mattempt\u001b[38;5;132;01m}\u001b[39;00m\u001b[38;5;124m...\u001b[39m\u001b[38;5;124m\"\u001b[39m)\n\u001b[0;32m---> 11\u001b[0m     result \u001b[38;5;241m=\u001b[39m \u001b[43mfunc\u001b[49m\u001b[43m(\u001b[49m\u001b[38;5;241;43m*\u001b[39;49m\u001b[43margs\u001b[49m\u001b[43m,\u001b[49m\u001b[43m \u001b[49m\u001b[38;5;241;43m*\u001b[39;49m\u001b[38;5;241;43m*\u001b[39;49m\u001b[43mkwargs\u001b[49m\u001b[43m)\u001b[49m\n\u001b[1;32m     12\u001b[0m     \u001b[38;5;28mprint\u001b[39m(\u001b[38;5;124m\"\u001b[39m\u001b[38;5;124mFunction succeeded\u001b[39m\u001b[38;5;124m\"\u001b[39m)\n\u001b[1;32m     13\u001b[0m     \u001b[38;5;28;01mreturn\u001b[39;00m result  \u001b[38;5;66;03m# Return the result if the function succeeds\u001b[39;00m\n",
      "Cell \u001b[0;32mIn[120], line 25\u001b[0m, in \u001b[0;36mrisky_division\u001b[0;34m(a, b)\u001b[0m\n\u001b[1;32m     22\u001b[0m \u001b[38;5;129m@retry_decorator\u001b[39m(\u001b[38;5;241m5\u001b[39m)\n\u001b[1;32m     23\u001b[0m \u001b[38;5;28;01mdef\u001b[39;00m \u001b[38;5;21mrisky_division\u001b[39m(a, b):\n\u001b[1;32m     24\u001b[0m     \u001b[38;5;28;01mif\u001b[39;00m b \u001b[38;5;241m==\u001b[39m \u001b[38;5;241m0\u001b[39m:\n\u001b[0;32m---> 25\u001b[0m         \u001b[38;5;28;01mraise\u001b[39;00m \u001b[38;5;167;01mZeroDivisionError\u001b[39;00m(\u001b[38;5;124m\"\u001b[39m\u001b[38;5;124mDivision by zero\u001b[39m\u001b[38;5;124m\"\u001b[39m)\n\u001b[1;32m     26\u001b[0m     \u001b[38;5;28;01mreturn\u001b[39;00m a \u001b[38;5;241m/\u001b[39m b\n",
      "\u001b[0;31mZeroDivisionError\u001b[0m: Division by zero"
     ]
    }
   ],
   "source": [
    "def retry_decorator(attempts):\n",
    "    \"\"\"This is a decorator factor!\n",
    "    \"\"\"\n",
    "    def decorator(func):\n",
    "        \"\"\"This is a decorator!\n",
    "        \"\"\"\n",
    "        def wrapper(*args, **kwargs):\n",
    "            \"\"\"This is the modifier.\n",
    "            \"\"\"\n",
    "            for attempt in range(1, attempts + 1):\n",
    "                try:\n",
    "                    print(f\"Attempt {attempt}...\")\n",
    "                    result = func(*args, **kwargs)\n",
    "                    print(\"Function succeeded\")\n",
    "                    return result  # Return the result if the function succeeds\n",
    "                except Exception as e:\n",
    "                    print(f\"Attempt {attempt} failed with error: {e}\")\n",
    "                    if attempt == attempts:\n",
    "                        print(\"All attempts failed\")\n",
    "                        raise  # Raise the exception after the last attempt\n",
    "            return None\n",
    "        return wrapper\n",
    "    return decorator\n",
    "@retry_decorator(5)\n",
    "def risky_division(a, b):\n",
    "    if b == 0:\n",
    "        raise ZeroDivisionError(\"Division by zero\")\n",
    "    return a / b\n",
    "\n",
    "risky_division(4, 0) # expecting exceptions\n"
   ]
  },
  {
   "cell_type": "code",
   "execution_count": 121,
   "metadata": {},
   "outputs": [],
   "source": [
    "decor = retry_decorator(5)\n"
   ]
  },
  {
   "cell_type": "code",
   "execution_count": 124,
   "metadata": {},
   "outputs": [],
   "source": [
    "@decor\n",
    "def test_func(x):\n",
    "    return x+1"
   ]
  },
  {
   "cell_type": "code",
   "execution_count": 125,
   "metadata": {},
   "outputs": [
    {
     "name": "stdout",
     "output_type": "stream",
     "text": [
      "Attempt 1...\n",
      "Function succeeded\n"
     ]
    },
    {
     "data": {
      "text/plain": [
       "5"
      ]
     },
     "execution_count": 125,
     "metadata": {},
     "output_type": "execute_result"
    }
   ],
   "source": [
    "test_func(4)"
   ]
  },
  {
   "cell_type": "markdown",
   "metadata": {},
   "source": [
    "# Explain what closure is with an example"
   ]
  },
  {
   "cell_type": "code",
   "execution_count": 117,
   "metadata": {},
   "outputs": [],
   "source": [
    "def out_function(name: str, location:str):\n",
    "    def inner_function():\n",
    "        print(f\"{name} is in {location}\")\n",
    "    return inner_function\n",
    "inner = out_function(\"Jack\", \"London\")\n",
    "inner()"
   ]
  },
  {
   "cell_type": "markdown",
   "metadata": {},
   "source": [
    "# Replace string space with a character"
   ]
  },
  {
   "cell_type": "code",
   "execution_count": 34,
   "metadata": {},
   "outputs": [],
   "source": [
    "string_1 = \"vajf;lkasdf ouslkhf aslkdflnxzcvh sadfhawhef\""
   ]
  },
  {
   "cell_type": "code",
   "execution_count": null,
   "metadata": {},
   "outputs": [],
   "source": [
    "string_1.replace(\" \", \"-----\") # can be any character"
   ]
  },
  {
   "cell_type": "markdown",
   "metadata": {},
   "source": [
    "# Given an integer n, return the number of trailing zeroes in n factorial n!"
   ]
  },
  {
   "cell_type": "code",
   "execution_count": 36,
   "metadata": {},
   "outputs": [],
   "source": [
    "def trailing_zeros(n: int) -> int:\n",
    "    def factorial(n: int):\n",
    "        if n <= 1: \n",
    "            return 1\n",
    "        return n * factorial(n - 1)\n",
    "    \n",
    "    num = factorial(n)\n",
    "    return num, str(num).count(\"0\")"
   ]
  },
  {
   "cell_type": "code",
   "execution_count": null,
   "metadata": {},
   "outputs": [],
   "source": [
    "trailing_zeros(10)"
   ]
  },
  {
   "cell_type": "markdown",
   "metadata": {},
   "source": [
    "# Can the String Be Split into Dictionary Words?"
   ]
  },
  {
   "cell_type": "code",
   "execution_count": 38,
   "metadata": {},
   "outputs": [],
   "source": [
    "my_word_list = [\"my\", \"cat\", \"has\", \"a\", \"house\"]"
   ]
  },
  {
   "cell_type": "markdown",
   "metadata": {},
   "source": [
    "test_word = \"cathasmyhouse\""
   ]
  },
  {
   "cell_type": "code",
   "execution_count": 40,
   "metadata": {},
   "outputs": [],
   "source": [
    "def word_segragtion(test_word: str, my_word_list:list) -> bool:\n",
    "    for word in my_word_list:\n",
    "        if word in test_word:\n",
    "            test_word = test_word.replace(word, \"\")\n",
    "    if test_word == \"\":\n",
    "        return test_word, \"splitted\"\n",
    "    else:\n",
    "        return test_word, \"leftover\""
   ]
  },
  {
   "cell_type": "code",
   "execution_count": null,
   "metadata": {},
   "outputs": [],
   "source": [
    "word_segragtion(test_word, my_word_list)"
   ]
  },
  {
   "cell_type": "markdown",
   "metadata": {},
   "source": [
    "# Remove duplicates from a sorted array"
   ]
  },
  {
   "cell_type": "code",
   "execution_count": 42,
   "metadata": {},
   "outputs": [],
   "source": [
    "sorted_list = [1, 1, 2, 3, 4, 5, 5, 5, 6, 7, 8, 8, 9]"
   ]
  },
  {
   "cell_type": "code",
   "execution_count": 43,
   "metadata": {},
   "outputs": [],
   "source": [
    "def remove_dupe_in_list(sorted_list: list) -> list:\n",
    "    unique_list = []\n",
    "    unique_list.append(sorted_list[0])\n",
    "    for i, num in enumerate(sorted_list):\n",
    "        if num > sorted_list[i-1]:\n",
    "            unique_list.append(i)\n",
    "    return unique_list"
   ]
  },
  {
   "cell_type": "code",
   "execution_count": null,
   "metadata": {},
   "outputs": [],
   "source": [
    "remove_dupe_in_list(sorted_list)"
   ]
  },
  {
   "cell_type": "markdown",
   "metadata": {},
   "source": [
    "# Can you find the missing number in the array?"
   ]
  },
  {
   "cell_type": "code",
   "execution_count": 57,
   "metadata": {},
   "outputs": [],
   "source": [
    "my_list = [1, 4, 5, 6, 7, 8, 10]"
   ]
  },
  {
   "cell_type": "code",
   "execution_count": 60,
   "metadata": {},
   "outputs": [],
   "source": [
    "def find_missing_num(my_list) -> list:\n",
    "    full_set = set(range(my_list[0], my_list[-1]))\n",
    "    my_set = set(my_list)\n",
    "    return sorted(list(full_set.difference(my_set)))"
   ]
  },
  {
   "cell_type": "code",
   "execution_count": null,
   "metadata": {},
   "outputs": [],
   "source": [
    "find_missing_num(my_list)"
   ]
  },
  {
   "cell_type": "markdown",
   "metadata": {},
   "source": [
    "#  Can you find the maximum single sell profit? (Don't use max() and min())"
   ]
  },
  {
   "cell_type": "code",
   "execution_count": 64,
   "metadata": {},
   "outputs": [],
   "source": [
    "stock_price = [8, 4, 12, 9, 20, 10, 20, 5, 23, 34, 23]"
   ]
  },
  {
   "cell_type": "code",
   "execution_count": 70,
   "metadata": {},
   "outputs": [],
   "source": [
    "def max_profit_calculator(prices: list) -> int:\n",
    "    max_profit = 0\n",
    "    profit = 0\n",
    "    for i, buy in enumerate(stock_price):\n",
    "        for sell in stock_price[i+1:]:\n",
    "            if sell > buy:\n",
    "                profit = sell - buy\n",
    "            if profit > max_profit:\n",
    "                max_profit = profit\n",
    "\n",
    "    return max_profit"
   ]
  },
  {
   "cell_type": "code",
   "execution_count": null,
   "metadata": {},
   "outputs": [],
   "source": [
    "max_profit_calculator(stock_price)"
   ]
  },
  {
   "cell_type": "code",
   "execution_count": null,
   "metadata": {},
   "outputs": [],
   "source": [
    "# test case\n",
    "max(stock_price) - min(stock_price) "
   ]
  },
  {
   "cell_type": "markdown",
   "metadata": {},
   "source": [
    "# Can you find a Pythagorean triplet in an array?"
   ]
  },
  {
   "cell_type": "code",
   "execution_count": 91,
   "metadata": {},
   "outputs": [],
   "source": [
    "from itertools import combinations\n",
    "test_list = [3, 1, 4, 6, 5]\n",
    "def pythagorean_finder(test_list: list) -> bool:\n",
    "    def squared(x):\n",
    "        return x**2\n",
    "    squared_list = list(map(squared, test_list))\n",
    "    a2_plus_b2 = list(combinations(squared_list, 2))\n",
    "    for pair in a2_plus_b2:\n",
    "        if str(pair[0] + pair[1]) in list(map(str, squared_list)):\n",
    "            return f\"found {pair[0]**0.5} and {pair[1]**0.5}\"\n"
   ]
  },
  {
   "cell_type": "code",
   "execution_count": null,
   "metadata": {},
   "outputs": [],
   "source": [
    "pythagorean_finder(test_list)"
   ]
  },
  {
   "cell_type": "markdown",
   "metadata": {},
   "source": [
    "# How many ways can you make change with coins and a total amount?"
   ]
  },
  {
   "cell_type": "code",
   "execution_count": 94,
   "metadata": {},
   "outputs": [],
   "source": [
    "denomination = [1, 2, 5]\n",
    "amount = 5"
   ]
  },
  {
   "cell_type": "code",
   "execution_count": null,
   "metadata": {},
   "outputs": [],
   "source": [
    "def find_changes(denomination: list, amount: int) -> list[list]:\n"
   ]
  },
  {
   "cell_type": "markdown",
   "metadata": {},
   "source": [
    "# Sliding window max, also show window's location"
   ]
  },
  {
   "cell_type": "code",
   "execution_count": 162,
   "metadata": {},
   "outputs": [],
   "source": [
    "num_list = [1,3,-1,-3,5, 6, -3, -9, 13, 6, 7, 2, 4, -9, 4, 12]\n",
    "def sliding_window_max(k: int, num_list: list) -> float:\n",
    "    max_values = []\n",
    "    while len(num_list)>=k:\n",
    "        max_values.append(sum(num_list[:k]))\n",
    "        num_list.pop(0)\n",
    "    max_index_start = max_values.index(max(list(max_values)))\n",
    "    max_index_end = max_index_start + k\n",
    "    return (max_index_start, max_index_end), max(list(max_values))"
   ]
  },
  {
   "cell_type": "code",
   "execution_count": 163,
   "metadata": {},
   "outputs": [
    {
     "data": {
      "text/plain": [
       "((8, 11), 26)"
      ]
     },
     "execution_count": 163,
     "metadata": {},
     "output_type": "execute_result"
    }
   ],
   "source": [
    "sliding_window_max(3, num_list)"
   ]
  },
  {
   "cell_type": "markdown",
   "metadata": {},
   "source": [
    "# Substring with Concatenation of All Words\n"
   ]
  },
  {
   "cell_type": "code",
   "execution_count": 166,
   "metadata": {},
   "outputs": [],
   "source": [
    "s = \"barfoofoobarthefoobarman\"\n",
    "words = [\"bar\",\"foo\",\"the\"]"
   ]
  },
  {
   "cell_type": "code",
   "execution_count": 202,
   "metadata": {},
   "outputs": [],
   "source": [
    "from itertools import permutations\n",
    "def concat_index(string: str, words: list) -> int:\n",
    "    concat_list = []\n",
    "    start_index = []\n",
    "    for permu in permutations(words):\n",
    "        concat_list.append(\"\".join(list(permu)))\n",
    "    for w in concat_list:\n",
    "        if w in string:\n",
    "            string = string.replace(w, \"-\")\n",
    "            start_index.append(string.find(\"-\"))\n",
    "    return concat_list, start_index"
   ]
  },
  {
   "cell_type": "code",
   "execution_count": 203,
   "metadata": {},
   "outputs": [
    {
     "data": {
      "text/plain": [
       "(['barfoothe',\n",
       "  'barthefoo',\n",
       "  'foobarthe',\n",
       "  'foothebar',\n",
       "  'thebarfoo',\n",
       "  'thefoobar'],\n",
       " [9])"
      ]
     },
     "execution_count": 203,
     "metadata": {},
     "output_type": "execute_result"
    }
   ],
   "source": [
    "concat_index(s, words)"
   ]
  },
  {
   "cell_type": "markdown",
   "metadata": {},
   "source": [
    "# Longest valid parentheses"
   ]
  },
  {
   "cell_type": "code",
   "execution_count": 204,
   "metadata": {},
   "outputs": [],
   "source": [
    "string = \"2(34)3s(4tsw(asf(dsf(aasaf(asdfa)s)afsd)fasdf)asd(f)asdf\"\n",
    "def longest_valid_parentheses(string: str) -> int:\n",
    "    start_index = 0\n",
    "    end_index = 0\n",
    "    for i in string:\n",
    "        if i == \"(\":\n",
    "            start_index = string.index(i)\n",
    "    for j in string[::-1]:\n",
    "        if j == \")\":\n",
    "            end_index = (len(string) - 1) - string.index(j)\n",
    "    return (start_index, end_index)"
   ]
  },
  {
   "cell_type": "markdown",
   "metadata": {},
   "source": []
  },
  {
   "cell_type": "code",
   "execution_count": 206,
   "metadata": {},
   "outputs": [
    {
     "data": {
      "text/plain": [
       "(1, 51)"
      ]
     },
     "execution_count": 206,
     "metadata": {},
     "output_type": "execute_result"
    }
   ],
   "source": [
    "longest_valid_parentheses(string)"
   ]
  },
  {
   "cell_type": "code",
   "execution_count": 207,
   "metadata": {},
   "outputs": [
    {
     "data": {
      "text/plain": [
       "56"
      ]
     },
     "execution_count": 207,
     "metadata": {},
     "output_type": "execute_result"
    }
   ],
   "source": [
    "len(string)"
   ]
  },
  {
   "cell_type": "markdown",
   "metadata": {},
   "source": [
    "# Reverse Polish Notation"
   ]
  },
  {
   "cell_type": "markdown",
   "metadata": {},
   "source": [
    "(7 + 8) * (6 - 1)\n",
    "37 8 + 6 1 - *"
   ]
  },
  {
   "cell_type": "markdown",
   "metadata": {},
   "source": [
    "# We count 35 heads and 94 legs among the chickens and rabbits in a farm. How many rabbits and how many chickens do we have?"
   ]
  },
  {
   "cell_type": "code",
   "execution_count": 215,
   "metadata": {},
   "outputs": [],
   "source": [
    "x = list(range(1, 36))\n",
    "y = list(map(lambda x: 36 - x, x))"
   ]
  },
  {
   "cell_type": "code",
   "execution_count": 217,
   "metadata": {},
   "outputs": [],
   "source": [
    "def find_solution(x: list, y: list) -> None:\n",
    "    for x, y in zip(x, y):\n",
    "        if (35 - y) * 2 + y * 4 == 94:\n",
    "            return f\"found the solution {x} and {y}\""
   ]
  },
  {
   "cell_type": "code",
   "execution_count": 218,
   "metadata": {},
   "outputs": [
    {
     "data": {
      "text/plain": [
       "'found the solution 24 and 12'"
      ]
     },
     "execution_count": 218,
     "metadata": {},
     "output_type": "execute_result"
    }
   ],
   "source": [
    "find_solution(x, y)"
   ]
  },
  {
   "cell_type": "markdown",
   "metadata": {},
   "source": [
    "# Print all permutations of a list"
   ]
  },
  {
   "cell_type": "code",
   "execution_count": 227,
   "metadata": {},
   "outputs": [],
   "source": [
    "from itertools import permutations\n",
    "def permute(lst: list) -> list:\n",
    "    results = []\n",
    "    for i in permutations(lst):\n",
    "        results.append((\"\").join(list(i)))\n",
    "    return results"
   ]
  },
  {
   "cell_type": "code",
   "execution_count": 228,
   "metadata": {},
   "outputs": [
    {
     "data": {
      "text/plain": [
       "['abcefghijklm',\n",
       " 'abcefgklmhij',\n",
       " 'abchijefgklm',\n",
       " 'abchijklmefg',\n",
       " 'abcklmefghij',\n",
       " 'abcklmhijefg',\n",
       " 'efgabchijklm',\n",
       " 'efgabcklmhij',\n",
       " 'efghijabcklm',\n",
       " 'efghijklmabc',\n",
       " 'efgklmabchij',\n",
       " 'efgklmhijabc',\n",
       " 'hijabcefgklm',\n",
       " 'hijabcklmefg',\n",
       " 'hijefgabcklm',\n",
       " 'hijefgklmabc',\n",
       " 'hijklmabcefg',\n",
       " 'hijklmefgabc',\n",
       " 'klmabcefghij',\n",
       " 'klmabchijefg',\n",
       " 'klmefgabchij',\n",
       " 'klmefghijabc',\n",
       " 'klmhijabcefg',\n",
       " 'klmhijefgabc']"
      ]
     },
     "execution_count": 228,
     "metadata": {},
     "output_type": "execute_result"
    }
   ],
   "source": [
    "lst = ['abc', 'efg', 'hij', 'klm']\n",
    "permute(lst)"
   ]
  },
  {
   "cell_type": "markdown",
   "metadata": {},
   "source": [
    "# Define a class named Shape and its subclass Square. The Square class has an init function which takes a length as argument. Both classes have a area function which can print the area of the shape where Shape's area is 0 by default."
   ]
  },
  {
   "cell_type": "code",
   "execution_count": 247,
   "metadata": {},
   "outputs": [],
   "source": [
    "class Shape:\n",
    "    def __init__(self, color: str = \"blue\") -> None:\n",
    "        self.color = color\n",
    "    def calc_area(self) -> float:\n",
    "        self.area = 0"
   ]
  },
  {
   "cell_type": "code",
   "execution_count": 248,
   "metadata": {},
   "outputs": [],
   "source": [
    "class Rectangle(Shape):\n",
    "    def __init__(self, length, width) -> None:\n",
    "        super().__init__()\n",
    "        self.length = length\n",
    "        self.width = width\n",
    "    def calc_area(self) -> float:\n",
    "        return self.length ** self.width"
   ]
  },
  {
   "cell_type": "code",
   "execution_count": 249,
   "metadata": {},
   "outputs": [
    {
     "data": {
      "text/plain": [
       "'blue'"
      ]
     },
     "execution_count": 249,
     "metadata": {},
     "output_type": "execute_result"
    }
   ],
   "source": [
    "rec = Rectangle(4, 5)\n",
    "rec.calc_area()\n",
    "rec.color"
   ]
  },
  {
   "cell_type": "markdown",
   "metadata": {},
   "source": [
    "# Get name and company name from email"
   ]
  },
  {
   "cell_type": "code",
   "execution_count": 251,
   "metadata": {},
   "outputs": [],
   "source": [
    "email = \"villeuusitalo@fancycompany.com\""
   ]
  },
  {
   "cell_type": "code",
   "execution_count": 254,
   "metadata": {},
   "outputs": [
    {
     "data": {
      "text/plain": [
       "('villeuusitalo', 'fancycompany')"
      ]
     },
     "execution_count": 254,
     "metadata": {},
     "output_type": "execute_result"
    }
   ],
   "source": [
    "def split_email(email: str) -> tuple[str]:\n",
    "    name, company = email.split(\"@\")\n",
    "    company = company.split(\".\")[0]\n",
    "    return name, company\n",
    "\n",
    "split_email(email)\n"
   ]
  },
  {
   "cell_type": "markdown",
   "metadata": {},
   "source": [
    "# Compress a string such that 'AAABCCDDDD' becomes 'A3BC2D4'. Only compress the string if it saves space."
   ]
  },
  {
   "cell_type": "code",
   "execution_count": 255,
   "metadata": {},
   "outputs": [
    {
     "data": {
      "text/plain": [
       "['A', 'A', 'A', 'B', 'C', 'C', 'D', 'D', 'D', 'D']"
      ]
     },
     "execution_count": 255,
     "metadata": {},
     "output_type": "execute_result"
    }
   ],
   "source": [
    "string = 'AAABCCDDDD'\n",
    "list(string)"
   ]
  },
  {
   "cell_type": "code",
   "execution_count": 269,
   "metadata": {},
   "outputs": [],
   "source": [
    "def compressor(string: str) -> dict:\n",
    "    compressed = {}\n",
    "    for ele in set(list(string)):\n",
    "        compressed[ele] = list(string).count(ele)\n",
    "    return compressed"
   ]
  },
  {
   "cell_type": "code",
   "execution_count": 270,
   "metadata": {},
   "outputs": [],
   "source": [
    "compressor(string)\n",
    "def convert2list(compressed_dict: dict) -> list:\n",
    "    result = []\n",
    "    for key, value in compressed_dict.items():\n",
    "        result.append(key)\n",
    "        result.append(str(value))\n",
    "    return result"
   ]
  },
  {
   "cell_type": "code",
   "execution_count": 272,
   "metadata": {},
   "outputs": [
    {
     "data": {
      "text/plain": [
       "'D4C2B1A3'"
      ]
     },
     "execution_count": 272,
     "metadata": {},
     "output_type": "execute_result"
    }
   ],
   "source": [
    "(\"\").join(convert2list(compressor(string)))"
   ]
  },
  {
   "cell_type": "markdown",
   "metadata": {},
   "source": [
    "# Pick any permutations from ['a', 'e', 'i', 'o', 'u'], but has to be ascending orders, the final results will be a list of all permutations that satisfy this condition"
   ]
  },
  {
   "cell_type": "code",
   "execution_count": 274,
   "metadata": {},
   "outputs": [],
   "source": [
    "from itertools import permutations\n",
    "vowels = ['a', 'e', 'i', 'o', 'u']"
   ]
  },
  {
   "cell_type": "code",
   "execution_count": 291,
   "metadata": {},
   "outputs": [],
   "source": [
    "def ascending_permu(vowels: list, n: int) -> list:\n",
    "    mask_for_survivors = []\n",
    "    permu_list = [(\"\").join(list(permu)) for permu in list(permutations(vowels, n))]\n",
    "    for i in permu_list:\n",
    "        mask_for_survivors.append(__validate_order(i))\n",
    "    return [permu for permu, mask in zip(permu_list, mask_for_survivors) if mask]\n",
    "        \n",
    "\n",
    "def __validate_order(permu: list) -> bool:\n",
    "    return (\"\").join(sorted(permu)) == permu"
   ]
  },
  {
   "cell_type": "code",
   "execution_count": 292,
   "metadata": {},
   "outputs": [
    {
     "data": {
      "text/plain": [
       "['aeio', 'aeiu', 'aeou', 'aiou', 'eiou']"
      ]
     },
     "execution_count": 292,
     "metadata": {},
     "output_type": "execute_result"
    }
   ],
   "source": [
    "ascending_permu(vowels=vowels, n=4)"
   ]
  },
  {
   "cell_type": "markdown",
   "metadata": {},
   "source": [
    "# Write a partial function"
   ]
  },
  {
   "cell_type": "code",
   "execution_count": 300,
   "metadata": {},
   "outputs": [],
   "source": [
    "def partial_(func, *fixed_args, **fixed_kwargs):\n",
    "    def wrapper(*remaining_args, **remaining_kwargs):\n",
    "        args = fixed_args + remaining_args\n",
    "        kwargs = {**fixed_kwargs, **remaining_kwargs}\n",
    "        return func(*args, **kwargs)\n",
    "    return wrapper\n",
    "\n",
    "@partial_\n",
    "def add_three_num(a: int, b: int, c: int) -> int:\n",
    "    return a + b + c"
   ]
  },
  {
   "cell_type": "code",
   "execution_count": 302,
   "metadata": {},
   "outputs": [],
   "source": [
    "add_partial = partial_(add_three_num, a=1, c=3)"
   ]
  },
  {
   "cell_type": "code",
   "execution_count": 303,
   "metadata": {},
   "outputs": [
    {
     "data": {
      "text/plain": [
       "115"
      ]
     },
     "execution_count": 303,
     "metadata": {},
     "output_type": "execute_result"
    }
   ],
   "source": [
    "add_partial(b=111)"
   ]
  },
  {
   "cell_type": "markdown",
   "metadata": {},
   "source": [
    "# Write a decorator factory and explain the logic"
   ]
  },
  {
   "cell_type": "code",
   "execution_count": 316,
   "metadata": {},
   "outputs": [],
   "source": [
    "class RepeatedTryFailure(Exception):\n",
    "    pass\n",
    "\n",
    "def decorator_factory(num_try):\n",
    "    def decorator(func):\n",
    "        def wrapper(*args, **kwargs):\n",
    "            import time\n",
    "            for i in range(int(num_try)):\n",
    "                print(f\"Trying {i} time\")\n",
    "                try:\n",
    "                    start = time.time()\n",
    "                    results = func(*args, **kwargs)\n",
    "                    end = time.time()\n",
    "                    elapsed = end - start\n",
    "                    print(f\"time elapsed {elapsed}\")\n",
    "                except RepeatedTryFailure as e:\n",
    "                    raise f\"Failure {e}!\"\n",
    "            return results\n",
    "        return wrapper\n",
    "    return decorator\n",
    "\n",
    "@decorator_factory(5)\n",
    "def power_func(m, n):\n",
    "    return m ** n\n",
    "\n"
   ]
  },
  {
   "cell_type": "code",
   "execution_count": 317,
   "metadata": {},
   "outputs": [
    {
     "name": "stdout",
     "output_type": "stream",
     "text": [
      "Trying 0 time\n",
      "time elapsed 9.489059448242188e-05\n",
      "Trying 1 time\n",
      "time elapsed 6.9141387939453125e-06\n",
      "Trying 2 time\n",
      "time elapsed 4.76837158203125e-06\n",
      "Trying 3 time\n",
      "time elapsed 4.0531158447265625e-06\n",
      "Trying 4 time\n",
      "time elapsed 5.245208740234375e-06\n"
     ]
    },
    {
     "data": {
      "text/plain": [
       "10000000000"
      ]
     },
     "execution_count": 317,
     "metadata": {},
     "output_type": "execute_result"
    }
   ],
   "source": [
    "power_func(10, 10)"
   ]
  },
  {
   "cell_type": "markdown",
   "metadata": {},
   "source": [
    "# Reverse Integer, for instance 3485 reversed into 5843, don't convert it into strings, use numerical approach only"
   ]
  },
  {
   "cell_type": "code",
   "execution_count": null,
   "metadata": {},
   "outputs": [],
   "source": [
    "def number_reverser(n: int) -> int:\n",
    "    n % 10"
   ]
  },
  {
   "cell_type": "code",
   "execution_count": 322,
   "metadata": {},
   "outputs": [
    {
     "data": {
      "text/plain": [
       "123"
      ]
     },
     "execution_count": 322,
     "metadata": {},
     "output_type": "execute_result"
    }
   ],
   "source": [
    "1234 // 10"
   ]
  },
  {
   "cell_type": "code",
   "execution_count": null,
   "metadata": {},
   "outputs": [],
   "source": []
  }
 ],
 "metadata": {
  "kernelspec": {
   "display_name": "weijie-chen-Vyy5-xRM-py3.12",
   "language": "python",
   "name": "python3"
  },
  "language_info": {
   "codemirror_mode": {
    "name": "ipython",
    "version": 3
   },
   "file_extension": ".py",
   "mimetype": "text/x-python",
   "name": "python",
   "nbconvert_exporter": "python",
   "pygments_lexer": "ipython3",
   "version": "3.12.3"
  }
 },
 "nbformat": 4,
 "nbformat_minor": 2
}
